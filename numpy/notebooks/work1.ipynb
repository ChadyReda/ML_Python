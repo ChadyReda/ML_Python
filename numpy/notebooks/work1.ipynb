{
 "cells": [
  {
   "cell_type": "code",
   "execution_count": 9,
   "metadata": {},
   "outputs": [],
   "source": [
    "from numpy import dot, array"
   ]
  },
  {
   "cell_type": "code",
   "execution_count": 11,
   "metadata": {},
   "outputs": [
    {
     "name": "stdout",
     "output_type": "stream",
     "text": [
      "[[ 8 55 30]\n",
      " [17 68 35]\n",
      " [ 2 18 10]]\n",
      "[[ 7 19]\n",
      " [46 79]]\n"
     ]
    }
   ],
   "source": [
    "# produit matriciel\n",
    "matrix1 = array([[1, 6], [5, 7], [0, 2]])\n",
    "matrix2 = array([[2, 1, 0], [1, 9, 5]])\n",
    "produit = dot(matrix1, matrix2)\n",
    "produit2 = dot(matrix2, matrix1)\n",
    "print(produit)\n",
    "print(produit2)"
   ]
  },
  {
   "cell_type": "code",
   "execution_count": null,
   "metadata": {},
   "outputs": [],
   "source": []
  }
 ],
 "metadata": {
  "kernelspec": {
   "display_name": "base",
   "language": "python",
   "name": "python3"
  },
  "language_info": {
   "codemirror_mode": {
    "name": "ipython",
    "version": 3
   },
   "file_extension": ".py",
   "mimetype": "text/x-python",
   "name": "python",
   "nbconvert_exporter": "python",
   "pygments_lexer": "ipython3",
   "version": "3.12.4"
  }
 },
 "nbformat": 4,
 "nbformat_minor": 2
}
